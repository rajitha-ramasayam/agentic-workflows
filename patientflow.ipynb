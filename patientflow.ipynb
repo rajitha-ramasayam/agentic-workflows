{
  "cells": [
    {
      "cell_type": "markdown",
      "metadata": {
        "id": "view-in-github",
        "colab_type": "text"
      },
      "source": [
        "<a href=\"https://colab.research.google.com/github/rajitha-ramasayam/langchain-academy/blob/groq/AgentChronicDisease.ipynb\" target=\"_parent\"><img src=\"https://colab.research.google.com/assets/colab-badge.svg\" alt=\"Open In Colab\"/></a>"
      ]
    },
    {
      "cell_type": "markdown",
      "id": "4cbf2458",
      "metadata": {
        "id": "4cbf2458"
      },
      "source": [
        "[![Open in Colab](https://colab.research.google.com/assets/colab-badge.svg)](https://colab.research.google.com/github/langchain-ai/langchain-academy/blob/main/module-1/chain.ipynb) [![Open in LangChain Academy](https://cdn.prod.website-files.com/65b8cd72835ceeacd4449a53/66e9eba12c7b7688aa3dbb5e_LCA-badge-green.svg)](https://academy.langchain.com/courses/take/intro-to-langgraph/lessons/58238466-lesson-4-chain)"
      ]
    },
    {
      "cell_type": "code",
      "execution_count": 7,
      "id": "a55e2e80-a718-4aaf-99b9-371157b34a4b",
      "metadata": {
        "id": "a55e2e80-a718-4aaf-99b9-371157b34a4b"
      },
      "outputs": [],
      "source": [
        "%%capture --no-stderr\n",
        "%pip install --quiet -U langchain_openai langchain_core langgraph groq langchain_groq"
      ]
    },
    {
      "cell_type": "code",
      "execution_count": 8,
      "id": "2652d5ec-7602-4220-bc6e-b90783ab287b",
      "metadata": {
        "id": "2652d5ec-7602-4220-bc6e-b90783ab287b"
      },
      "outputs": [],
      "source": [
        "import os, getpass\n",
        "from langchain_groq import ChatGroq\n",
        "\n",
        "def _set_env(var: str):\n",
        "    if not os.environ.get(var):\n",
        "        os.environ[var] = getpass.getpass(f\"{var}: \")\n",
        "\n",
        "_set_env(\"GROQ_API_KEY\")\n",
        "\n",
        "llm = ChatGroq(\n",
        "    model=\"mixtral-8x7b-32768\",\n",
        "    temperature=0)"
      ]
    },
    {
      "cell_type": "code",
      "execution_count": 9,
      "id": "928faf56-1a1a-4c5f-b97d-bd64d8e166d1",
      "metadata": {
        "id": "928faf56-1a1a-4c5f-b97d-bd64d8e166d1"
      },
      "outputs": [],
      "source": [
        "from langchain_core.messages import AIMessage, HumanMessage\n",
        "\n",
        "def intake_coordinator(state) -> str:\n",
        "    # Patient intake.\n",
        "    print(\"---------------------------------------------------------------------------\")\n",
        "    print(\"Intake Coordinator Agent: Working on checking the patient with below details\")\n",
        "    print(\"---------------------------------------------------------------------------\")\n",
        "    print(state['messages'])\n",
        "\n",
        "\n",
        "def personalized_care_planner(state) -> str:\n",
        "    # Create personalized care plan.\n",
        "    print(\"---------------------------------------------------------------------------\")\n",
        "    print(\"Personalized Care Planner Agent: Creating personalized care plan\")\n",
        "    print(\"---------------------------------------------------------------------------\")\n",
        "    response = llm.invoke([HumanMessage(content=f\"You are the personalized care planner. Provide the care plan for the patient with the below information {state}\")])\n",
        "    print(response.content[0:250])\n",
        "\n",
        "def health_educator(state) -> str:\n",
        "    # Delivers personalized educational materials.\n",
        "    print(\"---------------------------------------------------------------------------\")\n",
        "    print(\"Health Educator Agent: Delivering personalized educational materials\")\n",
        "    print(\"---------------------------------------------------------------------------\")\n",
        "    response = llm.invoke([HumanMessage(content=f\"You are the health educator, your responsibility is to provide personalized educational materials for the patients. Please provide the personalized health materials for the patient with below details {state}\")])\n",
        "    print(response.content[0:250])\n",
        "\n",
        "def monitoring_agent(state) -> str:\n",
        "    # Get patient health data through wearable devices\n",
        "    print(\"---------------------------------------------------------------------------\")\n",
        "    print(\"Monitoring Agent: Getting patient health data from wearable devices\")\n",
        "    response = llm.invoke([HumanMessage(content=f\"You are the health monitoring agent, your responsibility is to provide monitoring alerts and suggestions for the patients with the data gathered from wearable devices. Please provide suggestions for the patient with below details {state}\")])\n",
        "    print(response.content[0:250])\n",
        "    print(\"---------------------------------------------------------------------------\")\n",
        "\n",
        "def mental_health_coach(state) -> str:\n",
        "    # Engages patients with tailored cognitive-behavioral techniques and motivational messages.\n",
        "    print(\"---------------------------------------------------------------------------\")\n",
        "    print(\"Mental Health Coach Agent: Engages patients with tailored cognitive-behavioral techniques and motivational messages\")\n",
        "    response = llm.invoke([HumanMessage(content=f\"You are the behavior health coach, your responsibility is to provide patients with tailored cognitive-behavioral techniques and motivational messages. Please provide the same for the patient with below details {state}\")])\n",
        "    print(response.content[0:250])\n",
        "    print(\"---------------------------------------------------------------------------\")\n",
        "\n",
        "def provider_communication(state) -> str:\n",
        "    # Shares patient progress, alerts, and care plan updates with the care team, Collects feedback from providers and incorporates it into the care plan\n",
        "    print(\"---------------------------------------------------------------------------\")\n",
        "    print(\"Provider Communication Agent: Sharing patient progress, alerts, and care plan updates with the care team.\")\n",
        "    response = llm.invoke([HumanMessage(content=f\"You are the provider communication agent, your responsibility is to Share patient progress, alerts, and care plan updates with the care team. Please share with the provider, the patient with below details {state}\")])\n",
        "    print(response.content[0:250])\n",
        "    print(\"---------------------------------------------------------------------------\")\n",
        "\n",
        "def predictive_analytics(state) -> str:\n",
        "    # Analyzes patient trends to predict potential complications.\n",
        "    print(\"---------------------------------------------------------------------------\")\n",
        "    print(\"Predictive Analytics: Analyzes patient trends to predict potential complications.\")\n",
        "    response = llm.invoke([HumanMessage(content=f\"You are the predictive health agent, your responsibility is to analyze patient trends to predict potential complications. Please analyze the patient with below details {state}\")])\n",
        "    print(response.content[0:250])\n",
        "    print(\"---------------------------------------------------------------------------\")\n",
        "\n",
        "llm_with_tools = llm.bind_tools([intake_coordinator, personalized_care_planner, health_educator, monitoring_agent, mental_health_coach, provider_communication, predictive_analytics])"
      ]
    },
    {
      "cell_type": "code",
      "execution_count": 14,
      "id": "6b33eb72-3197-4870-b9a3-0da8056c40c5",
      "metadata": {
        "id": "6b33eb72-3197-4870-b9a3-0da8056c40c5"
      },
      "outputs": [],
      "source": [
        "from typing_extensions import TypedDict\n",
        "\n",
        "class PatientDetails(TypedDict):\n",
        "    patient_id: str\n",
        "    name: str\n",
        "    age: int\n",
        "    gender: str\n",
        "    medical_history: str\n",
        "    current_medications: str\n",
        "    allergies: str\n",
        "    contact_information: str\n",
        "    emergency_contact: str\n",
        "    insurance_information: str\n"
      ]
    },
    {
      "cell_type": "code",
      "execution_count": 15,
      "id": "b5306639-7e6a-44be-8471-8d2631701cfb",
      "metadata": {
        "id": "b5306639-7e6a-44be-8471-8d2631701cfb",
        "outputId": "a34c6157-e5f6-42eb-8d26-a9b73e281cab",
        "colab": {
          "base_uri": "https://localhost:8080/",
          "height": 647
        }
      },
      "outputs": [
        {
          "output_type": "display_data",
          "data": {
            "image/png": "[encoded data removed]",
            "text/plain": [
              "<IPython.core.display.Image object>"
            ]
          },
          "metadata": {}
        }
      ],
      "source": [
        "from IPython.display import Image, display\n",
        "from langgraph.graph import StateGraph, START, END\n",
        "from langgraph.graph import MessagesState\n",
        "\n",
        "# Node\n",
        "# def intake_coordinator(state: MessagesState):\n",
        "#    return {\"messages\": [llm_with_tools.invoke(state[\"messages\"])]}\n",
        "\n",
        "# Build graph\n",
        "builder = StateGraph(MessagesState)\n",
        "# Add nodes\n",
        "builder.add_node(\"intake_coordinator\", intake_coordinator)\n",
        "builder.add_node(\"personalized_care_planner\", personalized_care_planner)\n",
        "builder.add_node(\"health_educator\", health_educator)\n",
        "builder.add_node(\"monitoring_agent\", monitoring_agent)\n",
        "builder.add_node(\"mental_health_coach\", mental_health_coach)\n",
        "builder.add_node(\"provider_communication\", provider_communication)\n",
        "builder.add_node(\"predictive_analytics\", predictive_analytics)\n",
        "\n",
        "# Add Edges\n",
        "builder.add_edge(START, \"intake_coordinator\")\n",
        "builder.add_edge(\"intake_coordinator\", \"personalized_care_planner\")\n",
        "builder.add_edge(\"personalized_care_planner\", \"health_educator\")\n",
        "builder.add_edge(\"personalized_care_planner\", \"mental_health_coach\")\n",
        "builder.add_edge(\"personalized_care_planner\", \"monitoring_agent\")\n",
        "builder.add_edge(\"mental_health_coach\", \"predictive_analytics\")\n",
        "builder.add_edge(\"health_educator\", \"predictive_analytics\")\n",
        "builder.add_edge(\"monitoring_agent\", \"predictive_analytics\")\n",
        "builder.add_edge(\"predictive_analytics\",\"provider_communication\" )\n",
        "\n",
        "builder.add_edge(\"provider_communication\", END)\n",
        "graph = builder.compile()\n",
        "\n",
        "# View\n",
        "display(Image(graph.get_graph().draw_mermaid_png()))"
      ]
    },
    {
      "cell_type": "code",
      "source": [
        "# prompt: invoke graph object with some fake patient data\n",
        "\n",
        "patient = PatientDetails(patient_id=\"123\", name=\"Rajitha\", age=30, gender=\"Female\",\n",
        "                        medical_history=\"Migraines\", current_medications=\"None\",\n",
        "                        allergies=\"None\", contact_information=\"123-456-7890\",\n",
        "                        emergency_contact=\"987-654-3210\", insurance_information=\"XYZ Insurance\")\n",
        "# state = MessagesState(messages=[HumanMessage(content=f\"Patient intake for patient data {patient.name}\", name=\"Raj\")])\n",
        "state = {\"messages\": [HumanMessage(content=f\"Patient intake for patient data {patient['name']}, age: {patient['age']}, symptoms: {patient.get('symptoms', 'N/A')}, history: {patient.get('history', 'N/A')}, wearable_data: {patient.get('wearable_data', 'N/A')}, behavior_issues: {patient.get('behavior_issues', 'N/A')}\", name=\"Raj\")]}\n",
        "\n",
        "graph.invoke(state)"
      ],
      "metadata": {
        "id": "cLVaF46omaHm",
        "outputId": "827dc049-9cf6-4f3d-cd13-7bef667bc6ef",
        "colab": {
          "base_uri": "https://localhost:8080/"
        }
      },
      "id": "cLVaF46omaHm",
      "execution_count": 17,
      "outputs": [
        {
          "output_type": "stream",
          "name": "stdout",
          "text": [
            "---------------------------------------------------------------------------\n",
            "Intake Coordinator Agent: Working on checking the patient with below details\n",
            "---------------------------------------------------------------------------\n",
            "[HumanMessage(content='Patient intake for patient data Rajitha, age: 30, symptoms: N/A, history: N/A, wearable_data: N/A, behavior_issues: N/A', additional_kwargs={}, response_metadata={}, name='Raj', id='e9e86279-8184-48a2-9b4a-72004184e270')]\n",
            "---------------------------------------------------------------------------\n",
            "Personalized Care Planner Agent: Creating personalized care plan\n",
            "---------------------------------------------------------------------------\n",
            "Care Plan for Patient: Rajitha (Age: 30)\n",
            "\n",
            "1. Initial Assessment:\n",
            "Given the lack of symptoms, history, wearable data, and behavior issues provided, the first step is to conduct a thorough assessment of the patient's health status. This includes:\n",
            "a. Me\n",
            "---------------------------------------------------------------------------\n",
            "Health Educator Agent: Delivering personalized educational materials\n",
            "---------------------------------------------------------------------------\n",
            "---------------------------------------------------------------------------\n",
            "Monitoring Agent: Getting patient health data from wearable devices\n",
            "---------------------------------------------------------------------------\n",
            "Mental Health Coach Agent: Engages patients with tailored cognitive-behavioral techniques and motivational messages\n",
            "Dear Rajitha,\n",
            "\n",
            "As your health educator, I am providing you with some personalized health materials based on the information you have provided. Since you are 30 years old and do not have any symptoms, medical history, or wearable data, I will focus on\n",
            "Thank you for sharing the patient data. Based on the information provided, here are some suggestions for Rajitha:\n",
            "\n",
            "1. Encourage regular physical activity: As Rajitha is 30 years old, it's essential to maintain a healthy lifestyle. Regular physical ac\n",
            "---------------------------------------------------------------------------\n",
            "Hello Rajitha,\n",
            "\n",
            "I'm your behavioral health coach, and I'm here to help you improve your overall well-being through tailored cognitive-behavioral techniques and motivational messages. Since I don't have any specific information about your symptoms, hi\n",
            "---------------------------------------------------------------------------\n",
            "---------------------------------------------------------------------------\n",
            "Predictive Analytics: Analyzes patient trends to predict potential complications.\n",
            "Thank you for providing the patient data. Based on the information given, there are no symptoms, history, wearable data, or behavior issues to analyze. Therefore, I cannot predict any potential complications at this time.\n",
            "\n",
            "However, I would like to em\n",
            "---------------------------------------------------------------------------\n",
            "---------------------------------------------------------------------------\n",
            "Provider Communication Agent: Sharing patient progress, alerts, and care plan updates with the care team.\n",
            "Dear Provider,\n",
            "\n",
            "I am sharing patient progress for Rajitha, who is 30 years old. At this time, there are no reported symptoms, history, wearable data, or behavioral issues to share.\n",
            "\n",
            "Please let me know if you need any further information or if there a\n",
            "---------------------------------------------------------------------------\n"
          ]
        },
        {
          "output_type": "execute_result",
          "data": {
            "text/plain": [
              "{'messages': [HumanMessage(content='Patient intake for patient data Rajitha, age: 30, symptoms: N/A, history: N/A, wearable_data: N/A, behavior_issues: N/A', additional_kwargs={}, response_metadata={}, name='Raj', id='e9e86279-8184-48a2-9b4a-72004184e270')]}"
            ]
          },
          "metadata": {},
          "execution_count": 17
        }
      ]
    },
    {
      "cell_type": "code",
      "execution_count": null,
      "id": "311fbae3",
      "metadata": {
        "id": "311fbae3"
      },
      "outputs": [],
      "source": []
    }
  ],
  "metadata": {
    "kernelspec": {
      "display_name": "Python 3 (ipykernel)",
      "language": "python",
      "name": "python3"
    },
    "language_info": {
      "codemirror_mode": {
        "name": "ipython",
        "version": 3
      },
      "file_extension": ".py",
      "mimetype": "text/x-python",
      "name": "python",
      "nbconvert_exporter": "python",
      "pygments_lexer": "ipython3",
      "version": "3.12.1"
    },
    "colab": {
      "provenance": [],
      "toc_visible": true,
      "include_colab_link": true
    }
  },
  "nbformat": 4,
  "nbformat_minor": 5
}
